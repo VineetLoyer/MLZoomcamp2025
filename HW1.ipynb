{
 "cells": [
  {
   "cell_type": "markdown",
   "id": "9f4d5fb0",
   "metadata": {},
   "source": [
    "## <center> Homework 1 </center>"
   ]
  },
  {
   "cell_type": "code",
   "execution_count": 1,
   "id": "fc4f7cc7",
   "metadata": {},
   "outputs": [],
   "source": [
    "import pandas as pd\n",
    "import numpy as np"
   ]
  },
  {
   "cell_type": "markdown",
   "id": "dc35f13d",
   "metadata": {},
   "source": [
    "Ques 1: Pandas Version\n",
    "\n",
    "What's the version of Pandas that you have installed?"
   ]
  },
  {
   "cell_type": "code",
   "execution_count": 2,
   "id": "da8c6bf9",
   "metadata": {},
   "outputs": [
    {
     "data": {
      "text/plain": [
       "'2.2.2'"
      ]
     },
     "execution_count": 2,
     "metadata": {},
     "output_type": "execute_result"
    }
   ],
   "source": [
    "pd.__version__"
   ]
  },
  {
   "cell_type": "markdown",
   "id": "9d470f72",
   "metadata": {},
   "source": [
    "Getting the data - \n",
    "\n",
    "For this homework, we used Car Fuel Efficiency Dataset. Dataset link (https://raw.githubusercontent.com/alexeygrigorev/datasets/master/car_fuel_efficiency.csv)"
   ]
  },
  {
   "cell_type": "code",
   "execution_count": 3,
   "id": "3f511ed6",
   "metadata": {},
   "outputs": [],
   "source": [
    "# ! wget https://raw.githubusercontent.com/alexeygrigorev/datasets/master/car_fuel_efficiency.csv"
   ]
  },
  {
   "cell_type": "code",
   "execution_count": 4,
   "id": "e4410871",
   "metadata": {},
   "outputs": [],
   "source": [
    "# Loading the dataset\n",
    "df = pd.read_csv('car_fuel_efficiency.csv')"
   ]
  },
  {
   "cell_type": "markdown",
   "id": "d907cd8b",
   "metadata": {},
   "source": [
    "Ques 2: How many records are in the dataset?"
   ]
  },
  {
   "cell_type": "code",
   "execution_count": 5,
   "id": "95d2142d",
   "metadata": {},
   "outputs": [
    {
     "name": "stdout",
     "output_type": "stream",
     "text": [
      "<class 'pandas.core.frame.DataFrame'>\n",
      "RangeIndex: 9704 entries, 0 to 9703\n",
      "Data columns (total 11 columns):\n",
      " #   Column               Non-Null Count  Dtype  \n",
      "---  ------               --------------  -----  \n",
      " 0   engine_displacement  9704 non-null   int64  \n",
      " 1   num_cylinders        9222 non-null   float64\n",
      " 2   horsepower           8996 non-null   float64\n",
      " 3   vehicle_weight       9704 non-null   float64\n",
      " 4   acceleration         8774 non-null   float64\n",
      " 5   model_year           9704 non-null   int64  \n",
      " 6   origin               9704 non-null   object \n",
      " 7   fuel_type            9704 non-null   object \n",
      " 8   drivetrain           9704 non-null   object \n",
      " 9   num_doors            9202 non-null   float64\n",
      " 10  fuel_efficiency_mpg  9704 non-null   float64\n",
      "dtypes: float64(6), int64(2), object(3)\n",
      "memory usage: 834.1+ KB\n"
     ]
    }
   ],
   "source": [
    "df.info()"
   ]
  },
  {
   "cell_type": "markdown",
   "id": "38bdd0d6",
   "metadata": {},
   "source": [
    "Ans to Ques 2: 9704 entries, 0 to 9703"
   ]
  },
  {
   "cell_type": "markdown",
   "id": "b61913af",
   "metadata": {},
   "source": [
    "Ques 3: How many fuel types are present in dataset?"
   ]
  },
  {
   "cell_type": "code",
   "execution_count": 6,
   "id": "55381bdd",
   "metadata": {},
   "outputs": [
    {
     "data": {
      "text/plain": [
       "fuel_type\n",
       "Gasoline    4898\n",
       "Diesel      4806\n",
       "Name: count, dtype: int64"
      ]
     },
     "execution_count": 6,
     "metadata": {},
     "output_type": "execute_result"
    }
   ],
   "source": [
    "df['fuel_type'].value_counts()"
   ]
  },
  {
   "cell_type": "markdown",
   "id": "d1d221b1",
   "metadata": {},
   "source": [
    "Ans to Ques 3: Two type of fuel - Gasoline and Diesel"
   ]
  },
  {
   "cell_type": "markdown",
   "id": "a5d7bbfc",
   "metadata": {},
   "source": [
    "Ques 4: How many columns in the dataset have missing values?"
   ]
  },
  {
   "cell_type": "code",
   "execution_count": 7,
   "id": "80b71f55",
   "metadata": {},
   "outputs": [
    {
     "name": "stdout",
     "output_type": "stream",
     "text": [
      "engine_displacement      0\n",
      "num_cylinders          482\n",
      "horsepower             708\n",
      "vehicle_weight           0\n",
      "acceleration           930\n",
      "model_year               0\n",
      "origin                   0\n",
      "fuel_type                0\n",
      "drivetrain               0\n",
      "num_doors              502\n",
      "fuel_efficiency_mpg      0\n",
      "dtype: int64\n"
     ]
    }
   ],
   "source": [
    "columns_with_missing = df.isnull().sum()\n",
    "print(columns_with_missing)"
   ]
  },
  {
   "cell_type": "markdown",
   "id": "d38a6589",
   "metadata": {},
   "source": [
    "Ans to Ques 4: 4 columns have NULL values"
   ]
  },
  {
   "cell_type": "markdown",
   "id": "478b6fb7",
   "metadata": {},
   "source": [
    "Ques 5: What's the maximum fuel efficiency of cars from Asia?"
   ]
  },
  {
   "cell_type": "code",
   "execution_count": 8,
   "id": "a95217e0",
   "metadata": {},
   "outputs": [
    {
     "name": "stdout",
     "output_type": "stream",
     "text": [
      "23.759122836520497\n"
     ]
    }
   ],
   "source": [
    "cars_from_asia = df[df['origin'] == 'Asia']['fuel_efficiency_mpg'].max()\n",
    "print(cars_from_asia)"
   ]
  },
  {
   "cell_type": "markdown",
   "id": "5d457140",
   "metadata": {},
   "source": [
    "Ans to Ques 5: 23.75 is the max fuel efficiency of cars from Asia"
   ]
  },
  {
   "cell_type": "markdown",
   "id": "38ec5e4e",
   "metadata": {},
   "source": [
    "Ques 6: \n",
    "\n",
    "1. Find the median value of \"horsepower\" column in the dataset\n",
    "2. Next, calculate the most frequent value of the same \"horsepower\" column\n",
    "3. Use fillna method to fill missing values of \"horsepower\" column with the most frequent value from the previous step.\n",
    "4. Calculate teh median value of \"horsepower\" column once again.\n",
    "\n",
    "Has it changed?"
   ]
  },
  {
   "cell_type": "code",
   "execution_count": 9,
   "id": "c2c7a9b3",
   "metadata": {},
   "outputs": [
    {
     "name": "stdout",
     "output_type": "stream",
     "text": [
      "median_horsepower = 149.0, most_frequent_horsepower = 152.0, new_median_horsepower = 149.0\n"
     ]
    },
    {
     "name": "stderr",
     "output_type": "stream",
     "text": [
      "C:\\Users\\vinee\\AppData\\Local\\Temp\\ipykernel_79644\\2896502498.py:3: FutureWarning: A value is trying to be set on a copy of a DataFrame or Series through chained assignment using an inplace method.\n",
      "The behavior will change in pandas 3.0. This inplace method will never work because the intermediate object on which we are setting values always behaves as a copy.\n",
      "\n",
      "For example, when doing 'df[col].method(value, inplace=True)', try using 'df.method({col: value}, inplace=True)' or df[col] = df[col].method(value) instead, to perform the operation inplace on the original object.\n",
      "\n",
      "\n",
      "  df['horsepower'].fillna({'horsepower':most_frequent_horsepower}, inplace=True) #changed as per pandas version 3\n"
     ]
    }
   ],
   "source": [
    "median_horsepower = df['horsepower'].median()\n",
    "most_frequent_horsepower = df['horsepower'].mode()[0]\n",
    "df['horsepower'].fillna({'horsepower':most_frequent_horsepower}, inplace=True) #changed as per pandas version 3\n",
    "new_median_horsepower = df['horsepower'].median()\n",
    "print(f\"median_horsepower = {median_horsepower}, most_frequent_horsepower = {most_frequent_horsepower}, new_median_horsepower = {new_median_horsepower}\")"
   ]
  },
  {
   "cell_type": "markdown",
   "id": "af5d0a37",
   "metadata": {},
   "source": [
    "Ans to Ques 6: No it does not change"
   ]
  },
  {
   "cell_type": "markdown",
   "id": "fbcb2900",
   "metadata": {},
   "source": [
    "Ques 7:\n",
    "\n",
    "1. Select all the cars from Asia\n",
    "2. Select only columns vehicle_weight and model_year\n",
    "3. Select the first 7 values\n",
    "4. Get the underlying NumPy array. Let's call it X.\n",
    "5. Compute matrix-matrix multiplication between the transpose of X and X. To get the transpose, use X.T. Let's call the result XTX.\n",
    "6. Invert XTX.\n",
    "7. Create an array y with values [1100, 1300, 800, 900, 1000, 1100, 1200].\n",
    "8. Multiply the inverse of XTX with the transpose of X, and then multiply the result by y. Call the result w.\n",
    "9. What's the sum of all the elements of the result?"
   ]
  },
  {
   "cell_type": "code",
   "execution_count": 10,
   "id": "68b9617c",
   "metadata": {},
   "outputs": [
    {
     "name": "stdout",
     "output_type": "stream",
     "text": [
      "\n",
      " Select only cols vehicle_weight and model_year \n",
      "     vehicle_weight  model_year\n",
      "8      2714.219310        2016\n",
      "12     2783.868974        2010\n",
      "14     3582.687368        2007\n",
      "20     2231.808142        2011\n",
      "21     2659.431451        2016\n",
      "34     2844.227534        2014\n",
      "38     3761.994038        2019\n",
      "\n",
      " get the underlying numpy array \n",
      " [[2714.21930965 2016.        ]\n",
      " [2783.86897424 2010.        ]\n",
      " [3582.68736772 2007.        ]\n",
      " [2231.8081416  2011.        ]\n",
      " [2659.43145076 2016.        ]\n",
      " [2844.22753389 2014.        ]\n",
      " [3761.99403819 2019.        ]]\n",
      "\n",
      " Compute matrix-matrix multiplication between transpose of X and X \n",
      "  [[62248334.33150762 41431216.5073268 ]\n",
      " [41431216.5073268  28373339.        ]]\n",
      "\n",
      " Invert the matrix \n",
      " [[ 5.71497081e-07 -8.34509443e-07]\n",
      " [-8.34509443e-07  1.25380877e-06]]\n",
      "\n",
      " Sum of all elements in w:  0.5187709081074016\n"
     ]
    }
   ],
   "source": [
    "cars_from_asia = df[df['origin'] == 'Asia']\n",
    "#print(cars_from_asia)\n",
    "df_new = cars_from_asia[['vehicle_weight','model_year']].head(7)\n",
    "print(\"\\n Select only cols vehicle_weight and model_year \\n\",df_new)\n",
    "X = df_new.values\n",
    "print(\"\\n get the underlying numpy array \\n\",X)\n",
    "XTX = X.T.dot(X)\n",
    "print(\"\\n Compute matrix-matrix multiplication between transpose of X and X \\n \", XTX)\n",
    "XTX_inv = np.linalg.inv(XTX)\n",
    "print(\"\\n Invert the matrix \\n\",XTX_inv)\n",
    "y = [1100, 1300, 800, 900, 1000, 1100, 1200]\n",
    "\n",
    "w = XTX_inv.dot(X.T).dot(y)\n",
    "\n",
    "print(\"\\n Sum of all elements in w: \", w.sum())\n"
   ]
  },
  {
   "cell_type": "markdown",
   "id": "fa8a23e9",
   "metadata": {},
   "source": []
  }
 ],
 "metadata": {
  "kernelspec": {
   "display_name": "base",
   "language": "python",
   "name": "python3"
  },
  "language_info": {
   "codemirror_mode": {
    "name": "ipython",
    "version": 3
   },
   "file_extension": ".py",
   "mimetype": "text/x-python",
   "name": "python",
   "nbconvert_exporter": "python",
   "pygments_lexer": "ipython3",
   "version": "3.11.5"
  }
 },
 "nbformat": 4,
 "nbformat_minor": 5
}
