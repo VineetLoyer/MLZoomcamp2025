{
 "cells": [
  {
   "cell_type": "code",
   "execution_count": 10,
   "id": "7b287bb6",
   "metadata": {},
   "outputs": [],
   "source": [
    "import numpy as np\n",
    "import pandas as pd\n",
    "import matplotlib.pyplot as plt\n",
    "\n",
    "from sklearn.model_selection import train_test_split, KFold\n",
    "from sklearn.metrics import roc_auc_score, precision_recall_curve, precision_score, recall_score, f1_score\n",
    "from sklearn.feature_extraction import DictVectorizer\n",
    "from sklearn.linear_model import LogisticRegression\n"
   ]
  },
  {
   "cell_type": "code",
   "execution_count": 11,
   "id": "9e2cacf4",
   "metadata": {},
   "outputs": [
    {
     "name": "stdout",
     "output_type": "stream",
     "text": [
      "(1462, 9)\n"
     ]
    },
    {
     "data": {
      "text/html": [
       "<div>\n",
       "<style scoped>\n",
       "    .dataframe tbody tr th:only-of-type {\n",
       "        vertical-align: middle;\n",
       "    }\n",
       "\n",
       "    .dataframe tbody tr th {\n",
       "        vertical-align: top;\n",
       "    }\n",
       "\n",
       "    .dataframe thead th {\n",
       "        text-align: right;\n",
       "    }\n",
       "</style>\n",
       "<table border=\"1\" class=\"dataframe\">\n",
       "  <thead>\n",
       "    <tr style=\"text-align: right;\">\n",
       "      <th></th>\n",
       "      <th>lead_source</th>\n",
       "      <th>industry</th>\n",
       "      <th>number_of_courses_viewed</th>\n",
       "      <th>annual_income</th>\n",
       "      <th>employment_status</th>\n",
       "      <th>location</th>\n",
       "      <th>interaction_count</th>\n",
       "      <th>lead_score</th>\n",
       "      <th>converted</th>\n",
       "    </tr>\n",
       "  </thead>\n",
       "  <tbody>\n",
       "    <tr>\n",
       "      <th>0</th>\n",
       "      <td>paid_ads</td>\n",
       "      <td>NaN</td>\n",
       "      <td>1</td>\n",
       "      <td>79450.0</td>\n",
       "      <td>unemployed</td>\n",
       "      <td>south_america</td>\n",
       "      <td>4</td>\n",
       "      <td>0.94</td>\n",
       "      <td>1</td>\n",
       "    </tr>\n",
       "    <tr>\n",
       "      <th>1</th>\n",
       "      <td>social_media</td>\n",
       "      <td>retail</td>\n",
       "      <td>1</td>\n",
       "      <td>46992.0</td>\n",
       "      <td>employed</td>\n",
       "      <td>south_america</td>\n",
       "      <td>1</td>\n",
       "      <td>0.80</td>\n",
       "      <td>0</td>\n",
       "    </tr>\n",
       "    <tr>\n",
       "      <th>2</th>\n",
       "      <td>events</td>\n",
       "      <td>healthcare</td>\n",
       "      <td>5</td>\n",
       "      <td>78796.0</td>\n",
       "      <td>unemployed</td>\n",
       "      <td>australia</td>\n",
       "      <td>3</td>\n",
       "      <td>0.69</td>\n",
       "      <td>1</td>\n",
       "    </tr>\n",
       "    <tr>\n",
       "      <th>3</th>\n",
       "      <td>paid_ads</td>\n",
       "      <td>retail</td>\n",
       "      <td>2</td>\n",
       "      <td>83843.0</td>\n",
       "      <td>NaN</td>\n",
       "      <td>australia</td>\n",
       "      <td>1</td>\n",
       "      <td>0.87</td>\n",
       "      <td>0</td>\n",
       "    </tr>\n",
       "    <tr>\n",
       "      <th>4</th>\n",
       "      <td>referral</td>\n",
       "      <td>education</td>\n",
       "      <td>3</td>\n",
       "      <td>85012.0</td>\n",
       "      <td>self_employed</td>\n",
       "      <td>europe</td>\n",
       "      <td>3</td>\n",
       "      <td>0.62</td>\n",
       "      <td>1</td>\n",
       "    </tr>\n",
       "  </tbody>\n",
       "</table>\n",
       "</div>"
      ],
      "text/plain": [
       "    lead_source    industry  number_of_courses_viewed  annual_income  \\\n",
       "0      paid_ads         NaN                         1        79450.0   \n",
       "1  social_media      retail                         1        46992.0   \n",
       "2        events  healthcare                         5        78796.0   \n",
       "3      paid_ads      retail                         2        83843.0   \n",
       "4      referral   education                         3        85012.0   \n",
       "\n",
       "  employment_status       location  interaction_count  lead_score  converted  \n",
       "0        unemployed  south_america                  4        0.94          1  \n",
       "1          employed  south_america                  1        0.80          0  \n",
       "2        unemployed      australia                  3        0.69          1  \n",
       "3               NaN      australia                  1        0.87          0  \n",
       "4     self_employed         europe                  3        0.62          1  "
      ]
     },
     "execution_count": 11,
     "metadata": {},
     "output_type": "execute_result"
    }
   ],
   "source": [
    "df = pd.read_csv('course_lead_scoring.csv')\n",
    "print(df.shape)\n",
    "df.head()"
   ]
  },
  {
   "cell_type": "code",
   "execution_count": 12,
   "id": "679a392a",
   "metadata": {},
   "outputs": [
    {
     "name": "stdout",
     "output_type": "stream",
     "text": [
      "Categorical: ['lead_source', 'industry', 'employment_status', 'location']\n",
      "Numerical: ['number_of_courses_viewed', 'annual_income', 'interaction_count', 'lead_score']\n"
     ]
    },
    {
     "data": {
      "text/plain": [
       "lead_source                 128\n",
       "industry                    134\n",
       "number_of_courses_viewed      0\n",
       "annual_income               181\n",
       "employment_status           100\n",
       "location                     63\n",
       "interaction_count             0\n",
       "lead_score                    0\n",
       "converted                     0\n",
       "dtype: int64"
      ]
     },
     "execution_count": 12,
     "metadata": {},
     "output_type": "execute_result"
    }
   ],
   "source": [
    "target = 'converted'\n",
    "\n",
    "categorical_cols = df.select_dtypes(include=['object']).columns.tolist()\n",
    "numerical_cols = df.select_dtypes(exclude=['object']).drop(columns=[target]).columns.tolist()\n",
    "\n",
    "print('Categorical:', categorical_cols)\n",
    "print('Numerical:', numerical_cols)\n",
    "df.isnull().sum()"
   ]
  },
  {
   "cell_type": "code",
   "execution_count": 13,
   "id": "11a9bd10",
   "metadata": {},
   "outputs": [
    {
     "data": {
      "text/plain": [
       "lead_source                 0\n",
       "industry                    0\n",
       "number_of_courses_viewed    0\n",
       "annual_income               0\n",
       "employment_status           0\n",
       "location                    0\n",
       "interaction_count           0\n",
       "lead_score                  0\n",
       "converted                   0\n",
       "dtype: int64"
      ]
     },
     "execution_count": 13,
     "metadata": {},
     "output_type": "execute_result"
    }
   ],
   "source": [
    "df[categorical_cols] = df[categorical_cols].fillna('NA')\n",
    "df[numerical_cols] = df[numerical_cols].fillna(0.0)\n",
    "df.isnull().sum()"
   ]
  },
  {
   "cell_type": "code",
   "execution_count": 14,
   "id": "9a9db755",
   "metadata": {},
   "outputs": [
    {
     "name": "stdout",
     "output_type": "stream",
     "text": [
      "876 293 293\n"
     ]
    }
   ],
   "source": [
    "df_full_train, df_test = train_test_split(df, test_size=0.2, random_state=1)\n",
    "df_train, df_val = train_test_split(df_full_train, test_size=0.25, random_state=1)\n",
    "\n",
    "print(len(df_train), len(df_val), len(df_test))\n",
    "\n",
    "y_train = df_train[target].values\n",
    "y_val = df_val[target].values\n",
    "y_full_train = df_full_train[target].values\n",
    "y_test = df_test[target].values\n",
    "\n",
    "train_cols = categorical_cols + numerical_cols\n",
    "\n",
    "X_train = df_train[train_cols].copy()\n",
    "X_val = df_val[train_cols].copy()\n",
    "X_full_train = df_full_train[train_cols].copy()\n",
    "X_test = df_test[train_cols].copy()"
   ]
  },
  {
   "cell_type": "code",
   "execution_count": 15,
   "id": "c173da77",
   "metadata": {},
   "outputs": [
    {
     "data": {
      "text/plain": [
       "{'number_of_courses_viewed': 0.7635680590007088,\n",
       " 'annual_income': 0.5519578313253012,\n",
       " 'interaction_count': 0.738270176293409,\n",
       " 'lead_score': 0.6144993577250176}"
      ]
     },
     "execution_count": 15,
     "metadata": {},
     "output_type": "execute_result"
    }
   ],
   "source": [
    "roc_auc_values = {}\n",
    "for col in numerical_cols:\n",
    "    scores = X_train[col].values\n",
    "    auc = roc_auc_score(y_train, scores)\n",
    "    if auc < 0.5:\n",
    "        scores = -scores\n",
    "        auc = roc_auc_score(y_train, scores)\n",
    "    roc_auc_values[col] = auc\n",
    "\n",
    "roc_auc_values"
   ]
  },
  {
   "cell_type": "code",
   "execution_count": 16,
   "id": "9a8a7d81",
   "metadata": {},
   "outputs": [
    {
     "data": {
      "text/plain": [
       "('number_of_courses_viewed', 0.7635680590007088)"
      ]
     },
     "execution_count": 16,
     "metadata": {},
     "output_type": "execute_result"
    }
   ],
   "source": [
    "best_feature = max(roc_auc_values, key=roc_auc_values.get)\n",
    "best_feature, roc_auc_values[best_feature]"
   ]
  },
  {
   "cell_type": "code",
   "execution_count": 17,
   "id": "79097f54",
   "metadata": {},
   "outputs": [
    {
     "data": {
      "text/plain": [
       "0.8171316268814112"
      ]
     },
     "execution_count": 17,
     "metadata": {},
     "output_type": "execute_result"
    }
   ],
   "source": [
    "dv = DictVectorizer(sparse=False)\n",
    "train_dicts = X_train.to_dict(orient='records')\n",
    "val_dicts = X_val.to_dict(orient='records')\n",
    "\n",
    "dv.fit(train_dicts)\n",
    "X_train_dv = dv.transform(train_dicts)\n",
    "X_val_dv = dv.transform(val_dicts)\n",
    "\n",
    "model = LogisticRegression(solver='liblinear', C=1.0, max_iter=1000)\n",
    "model.fit(X_train_dv, y_train)\n",
    "\n",
    "y_val_pred = model.predict_proba(X_val_dv)[:, 1]\n",
    "val_auc = roc_auc_score(y_val, y_val_pred)\n",
    "val_auc"
   ]
  },
  {
   "cell_type": "code",
   "execution_count": 18,
   "id": "642affe3",
   "metadata": {},
   "outputs": [
    {
     "data": {
      "text/plain": [
       "0.817"
      ]
     },
     "execution_count": 18,
     "metadata": {},
     "output_type": "execute_result"
    }
   ],
   "source": [
    "round(val_auc, 3)"
   ]
  },
  {
   "cell_type": "code",
   "execution_count": 19,
   "id": "a4ddaef0",
   "metadata": {},
   "outputs": [
    {
     "data": {
      "image/png": "[encoded data removed]",
      "text/plain": [
       "<Figure size 800x500 with 1 Axes>"
      ]
     },
     "metadata": {},
     "output_type": "display_data"
    },
    {
     "data": {
      "text/plain": [
       "(0.98, 0.0, 0.0)"
      ]
     },
     "execution_count": 19,
     "metadata": {},
     "output_type": "execute_result"
    }
   ],
   "source": [
    "thresholds = np.arange(0.0, 1.01, 0.01)\n",
    "precision_scores = []\n",
    "recall_scores = []\n",
    "\n",
    "for t in thresholds:\n",
    "    y_pred_bin = (y_val_pred >= t).astype(int)\n",
    "    precision_scores.append(precision_score(y_val, y_pred_bin, zero_division=0))\n",
    "    recall_scores.append(recall_score(y_val, y_pred_bin))\n",
    "\n",
    "plt.figure(figsize=(8, 5))\n",
    "plt.plot(thresholds, precision_scores, label='precision')\n",
    "plt.plot(thresholds, recall_scores, label='recall')\n",
    "plt.xlabel('Threshold')\n",
    "plt.ylabel('Score')\n",
    "plt.title('Precision and Recall vs Threshold')\n",
    "plt.legend()\n",
    "plt.grid(True)\n",
    "plt.show()\n",
    "\n",
    "precision_recall_diff = np.abs(np.array(precision_scores) - np.array(recall_scores))\n",
    "intersection_idx = precision_recall_diff.argmin()\n",
    "threshold_intersection = thresholds[intersection_idx]\n",
    "threshold_intersection, precision_scores[intersection_idx], recall_scores[intersection_idx]"
   ]
  },
  {
   "cell_type": "code",
   "execution_count": 20,
   "id": "488a7cce",
   "metadata": {},
   "outputs": [
    {
     "data": {
      "text/plain": [
       "(0.64, 0.7790697674418605, 0.783625730994152)"
      ]
     },
     "execution_count": 20,
     "metadata": {},
     "output_type": "execute_result"
    }
   ],
   "source": [
    "valid_mask = (np.array(precision_scores) > 0) & (np.array(recall_scores) > 0)\n",
    "valid_thresholds = thresholds[valid_mask]\n",
    "valid_precision = np.array(precision_scores)[valid_mask]\n",
    "valid_recall = np.array(recall_scores)[valid_mask]\n",
    "\n",
    "valid_diff = np.abs(valid_precision - valid_recall)\n",
    "valid_idx = valid_diff.argmin()\n",
    "intersection_threshold = valid_thresholds[valid_idx]\n",
    "intersection_threshold, valid_precision[valid_idx], valid_recall[valid_idx]"
   ]
  },
  {
   "cell_type": "code",
   "execution_count": 21,
   "id": "265d3514",
   "metadata": {},
   "outputs": [
    {
     "data": {
      "text/html": [
       "<div>\n",
       "<style scoped>\n",
       "    .dataframe tbody tr th:only-of-type {\n",
       "        vertical-align: middle;\n",
       "    }\n",
       "\n",
       "    .dataframe tbody tr th {\n",
       "        vertical-align: top;\n",
       "    }\n",
       "\n",
       "    .dataframe thead th {\n",
       "        text-align: right;\n",
       "    }\n",
       "</style>\n",
       "<table border=\"1\" class=\"dataframe\">\n",
       "  <thead>\n",
       "    <tr style=\"text-align: right;\">\n",
       "      <th></th>\n",
       "      <th>threshold</th>\n",
       "      <th>precision</th>\n",
       "      <th>recall</th>\n",
       "      <th>abs_diff</th>\n",
       "    </tr>\n",
       "  </thead>\n",
       "  <tbody>\n",
       "    <tr>\n",
       "      <th>0</th>\n",
       "      <td>0.00</td>\n",
       "      <td>0.583618</td>\n",
       "      <td>1.0</td>\n",
       "      <td>0.416382</td>\n",
       "    </tr>\n",
       "    <tr>\n",
       "      <th>1</th>\n",
       "      <td>0.01</td>\n",
       "      <td>0.583618</td>\n",
       "      <td>1.0</td>\n",
       "      <td>0.416382</td>\n",
       "    </tr>\n",
       "    <tr>\n",
       "      <th>2</th>\n",
       "      <td>0.02</td>\n",
       "      <td>0.583618</td>\n",
       "      <td>1.0</td>\n",
       "      <td>0.416382</td>\n",
       "    </tr>\n",
       "    <tr>\n",
       "      <th>3</th>\n",
       "      <td>0.03</td>\n",
       "      <td>0.583618</td>\n",
       "      <td>1.0</td>\n",
       "      <td>0.416382</td>\n",
       "    </tr>\n",
       "    <tr>\n",
       "      <th>4</th>\n",
       "      <td>0.04</td>\n",
       "      <td>0.583618</td>\n",
       "      <td>1.0</td>\n",
       "      <td>0.416382</td>\n",
       "    </tr>\n",
       "  </tbody>\n",
       "</table>\n",
       "</div>"
      ],
      "text/plain": [
       "   threshold  precision  recall  abs_diff\n",
       "0       0.00   0.583618     1.0  0.416382\n",
       "1       0.01   0.583618     1.0  0.416382\n",
       "2       0.02   0.583618     1.0  0.416382\n",
       "3       0.03   0.583618     1.0  0.416382\n",
       "4       0.04   0.583618     1.0  0.416382"
      ]
     },
     "execution_count": 21,
     "metadata": {},
     "output_type": "execute_result"
    }
   ],
   "source": [
    "pr_table = pd.DataFrame({\n",
    "    'threshold': thresholds,\n",
    "    'precision': precision_scores,\n",
    "    'recall': recall_scores,\n",
    "    'abs_diff': np.abs(np.array(precision_scores) - np.array(recall_scores))\n",
    "})\n",
    "pr_table.head()"
   ]
  },
  {
   "cell_type": "code",
   "execution_count": 22,
   "id": "5b38d1c9",
   "metadata": {},
   "outputs": [
    {
     "data": {
      "text/html": [
       "<div>\n",
       "<style scoped>\n",
       "    .dataframe tbody tr th:only-of-type {\n",
       "        vertical-align: middle;\n",
       "    }\n",
       "\n",
       "    .dataframe tbody tr th {\n",
       "        vertical-align: top;\n",
       "    }\n",
       "\n",
       "    .dataframe thead th {\n",
       "        text-align: right;\n",
       "    }\n",
       "</style>\n",
       "<table border=\"1\" class=\"dataframe\">\n",
       "  <thead>\n",
       "    <tr style=\"text-align: right;\">\n",
       "      <th></th>\n",
       "      <th>threshold</th>\n",
       "      <th>precision</th>\n",
       "      <th>recall</th>\n",
       "      <th>abs_diff</th>\n",
       "    </tr>\n",
       "  </thead>\n",
       "  <tbody>\n",
       "    <tr>\n",
       "      <th>64</th>\n",
       "      <td>0.64</td>\n",
       "      <td>0.779070</td>\n",
       "      <td>0.783626</td>\n",
       "      <td>0.004556</td>\n",
       "    </tr>\n",
       "    <tr>\n",
       "      <th>65</th>\n",
       "      <td>0.65</td>\n",
       "      <td>0.778443</td>\n",
       "      <td>0.760234</td>\n",
       "      <td>0.018209</td>\n",
       "    </tr>\n",
       "    <tr>\n",
       "      <th>63</th>\n",
       "      <td>0.63</td>\n",
       "      <td>0.763736</td>\n",
       "      <td>0.812865</td>\n",
       "      <td>0.049129</td>\n",
       "    </tr>\n",
       "    <tr>\n",
       "      <th>66</th>\n",
       "      <td>0.66</td>\n",
       "      <td>0.779874</td>\n",
       "      <td>0.725146</td>\n",
       "      <td>0.054728</td>\n",
       "    </tr>\n",
       "    <tr>\n",
       "      <th>62</th>\n",
       "      <td>0.62</td>\n",
       "      <td>0.760638</td>\n",
       "      <td>0.836257</td>\n",
       "      <td>0.075619</td>\n",
       "    </tr>\n",
       "    <tr>\n",
       "      <th>67</th>\n",
       "      <td>0.67</td>\n",
       "      <td>0.797386</td>\n",
       "      <td>0.713450</td>\n",
       "      <td>0.083935</td>\n",
       "    </tr>\n",
       "    <tr>\n",
       "      <th>61</th>\n",
       "      <td>0.61</td>\n",
       "      <td>0.747475</td>\n",
       "      <td>0.865497</td>\n",
       "      <td>0.118022</td>\n",
       "    </tr>\n",
       "    <tr>\n",
       "      <th>68</th>\n",
       "      <td>0.68</td>\n",
       "      <td>0.805556</td>\n",
       "      <td>0.678363</td>\n",
       "      <td>0.127193</td>\n",
       "    </tr>\n",
       "    <tr>\n",
       "      <th>60</th>\n",
       "      <td>0.60</td>\n",
       "      <td>0.738916</td>\n",
       "      <td>0.877193</td>\n",
       "      <td>0.138277</td>\n",
       "    </tr>\n",
       "    <tr>\n",
       "      <th>59</th>\n",
       "      <td>0.59</td>\n",
       "      <td>0.741463</td>\n",
       "      <td>0.888889</td>\n",
       "      <td>0.147425</td>\n",
       "    </tr>\n",
       "  </tbody>\n",
       "</table>\n",
       "</div>"
      ],
      "text/plain": [
       "    threshold  precision    recall  abs_diff\n",
       "64       0.64   0.779070  0.783626  0.004556\n",
       "65       0.65   0.778443  0.760234  0.018209\n",
       "63       0.63   0.763736  0.812865  0.049129\n",
       "66       0.66   0.779874  0.725146  0.054728\n",
       "62       0.62   0.760638  0.836257  0.075619\n",
       "67       0.67   0.797386  0.713450  0.083935\n",
       "61       0.61   0.747475  0.865497  0.118022\n",
       "68       0.68   0.805556  0.678363  0.127193\n",
       "60       0.60   0.738916  0.877193  0.138277\n",
       "59       0.59   0.741463  0.888889  0.147425"
      ]
     },
     "execution_count": 22,
     "metadata": {},
     "output_type": "execute_result"
    }
   ],
   "source": [
    "pr_table.loc[valid_mask, :].sort_values('abs_diff').head(10)"
   ]
  },
  {
   "cell_type": "code",
   "execution_count": 23,
   "id": "48bf94b7",
   "metadata": {},
   "outputs": [
    {
     "data": {
      "image/png": "[encoded data removed]",
      "text/plain": [
       "<Figure size 800x500 with 1 Axes>"
      ]
     },
     "metadata": {},
     "output_type": "display_data"
    },
    {
     "data": {
      "text/plain": [
       "(0.5700000000000001, 0.8125)"
      ]
     },
     "execution_count": 23,
     "metadata": {},
     "output_type": "execute_result"
    }
   ],
   "source": [
    "f1_scores = []\n",
    "for t in thresholds:\n",
    "    y_pred_bin = (y_val_pred >= t).astype(int)\n",
    "    f1_scores.append(f1_score(y_val, y_pred_bin))\n",
    "\n",
    "plt.figure(figsize=(8, 5))\n",
    "plt.plot(thresholds, f1_scores)\n",
    "plt.xlabel('Threshold')\n",
    "plt.ylabel('F1 score')\n",
    "plt.title('F1 vs Threshold')\n",
    "plt.grid(True)\n",
    "plt.show()\n",
    "\n",
    "best_f1_idx = np.argmax(f1_scores)\n",
    "best_f1_threshold = thresholds[best_f1_idx]\n",
    "best_f1_threshold, f1_scores[best_f1_idx]"
   ]
  },
  {
   "cell_type": "code",
   "execution_count": 24,
   "id": "7ed88ff2",
   "metadata": {},
   "outputs": [
    {
     "data": {
      "text/plain": [
       "([0.8060745924216483,\n",
       "  0.8713738368910783,\n",
       "  0.7754320118852139,\n",
       "  0.8018368617683685,\n",
       "  0.8558272713202291],\n",
       " 0.8221089148573075,\n",
       " 0.03580711942905165)"
      ]
     },
     "execution_count": 24,
     "metadata": {},
     "output_type": "execute_result"
    }
   ],
   "source": [
    "kfold = KFold(n_splits=5, shuffle=True, random_state=1)\n",
    "\n",
    "fold_scores = []\n",
    "for train_idx, val_idx in kfold.split(df_full_train):\n",
    "    df_train_kfold = df_full_train.iloc[train_idx]\n",
    "    df_val_kfold = df_full_train.iloc[val_idx]\n",
    "    \n",
    "    y_train_k = df_train_kfold[target].values\n",
    "    y_val_k = df_val_kfold[target].values\n",
    "    \n",
    "    train_dicts_k = df_train_kfold[train_cols].to_dict(orient='records')\n",
    "    val_dicts_k = df_val_kfold[train_cols].to_dict(orient='records')\n",
    "    \n",
    "    dv_k = DictVectorizer(sparse=False)\n",
    "    X_train_k = dv_k.fit_transform(train_dicts_k)\n",
    "    X_val_k = dv_k.transform(val_dicts_k)\n",
    "    \n",
    "    model_k = LogisticRegression(solver='liblinear', C=1.0, max_iter=1000)\n",
    "    model_k.fit(X_train_k, y_train_k)\n",
    "    y_val_pred_k = model_k.predict_proba(X_val_k)[:, 1]\n",
    "    auc_k = roc_auc_score(y_val_k, y_val_pred_k)\n",
    "    fold_scores.append(auc_k)\n",
    "\n",
    "fold_scores, np.mean(fold_scores), np.std(fold_scores)"
   ]
  },
  {
   "cell_type": "code",
   "execution_count": 25,
   "id": "5faef111",
   "metadata": {},
   "outputs": [
    {
     "data": {
      "text/html": [
       "<div>\n",
       "<style scoped>\n",
       "    .dataframe tbody tr th:only-of-type {\n",
       "        vertical-align: middle;\n",
       "    }\n",
       "\n",
       "    .dataframe tbody tr th {\n",
       "        vertical-align: top;\n",
       "    }\n",
       "\n",
       "    .dataframe thead th {\n",
       "        text-align: right;\n",
       "    }\n",
       "</style>\n",
       "<table border=\"1\" class=\"dataframe\">\n",
       "  <thead>\n",
       "    <tr style=\"text-align: right;\">\n",
       "      <th></th>\n",
       "      <th>C</th>\n",
       "      <th>mean_auc</th>\n",
       "      <th>std_auc</th>\n",
       "      <th>mean_auc_round</th>\n",
       "      <th>std_auc_round</th>\n",
       "    </tr>\n",
       "  </thead>\n",
       "  <tbody>\n",
       "    <tr>\n",
       "      <th>0</th>\n",
       "      <td>0.000001</td>\n",
       "      <td>0.560208</td>\n",
       "      <td>0.023798</td>\n",
       "      <td>0.560</td>\n",
       "      <td>0.024</td>\n",
       "    </tr>\n",
       "    <tr>\n",
       "      <th>1</th>\n",
       "      <td>0.001000</td>\n",
       "      <td>0.866878</td>\n",
       "      <td>0.028746</td>\n",
       "      <td>0.867</td>\n",
       "      <td>0.029</td>\n",
       "    </tr>\n",
       "    <tr>\n",
       "      <th>2</th>\n",
       "      <td>1.000000</td>\n",
       "      <td>0.822109</td>\n",
       "      <td>0.035807</td>\n",
       "      <td>0.822</td>\n",
       "      <td>0.036</td>\n",
       "    </tr>\n",
       "  </tbody>\n",
       "</table>\n",
       "</div>"
      ],
      "text/plain": [
       "          C  mean_auc   std_auc  mean_auc_round  std_auc_round\n",
       "0  0.000001  0.560208  0.023798           0.560          0.024\n",
       "1  0.001000  0.866878  0.028746           0.867          0.029\n",
       "2  1.000000  0.822109  0.035807           0.822          0.036"
      ]
     },
     "execution_count": 25,
     "metadata": {},
     "output_type": "execute_result"
    }
   ],
   "source": [
    "Cs = [0.000001, 0.001, 1]\n",
    "results = []\n",
    "for C in Cs:\n",
    "    scores = []\n",
    "    for train_idx, val_idx in kfold.split(df_full_train):\n",
    "        df_train_kfold = df_full_train.iloc[train_idx]\n",
    "        df_val_kfold = df_full_train.iloc[val_idx]\n",
    "\n",
    "        y_train_k = df_train_kfold[target].values\n",
    "        y_val_k = df_val_kfold[target].values\n",
    "\n",
    "        train_dicts_k = df_train_kfold[train_cols].to_dict(orient='records')\n",
    "        val_dicts_k = df_val_kfold[train_cols].to_dict(orient='records')\n",
    "\n",
    "        dv_k = DictVectorizer(sparse=False)\n",
    "        X_train_k = dv_k.fit_transform(train_dicts_k)\n",
    "        X_val_k = dv_k.transform(val_dicts_k)\n",
    "\n",
    "        model_k = LogisticRegression(solver='liblinear', C=C, max_iter=1000)\n",
    "        model_k.fit(X_train_k, y_train_k)\n",
    "        y_val_pred_k = model_k.predict_proba(X_val_k)[:, 1]\n",
    "        auc_k = roc_auc_score(y_val_k, y_val_pred_k)\n",
    "        scores.append(auc_k)\n",
    "\n",
    "    mean_score = np.mean(scores)\n",
    "    std_score = np.std(scores)\n",
    "    results.append({'C': C, 'mean_auc': mean_score, 'std_auc': std_score})\n",
    "\n",
    "results_df = pd.DataFrame(results)\n",
    "results_df['mean_auc_round'] = results_df['mean_auc'].round(3)\n",
    "results_df['std_auc_round'] = results_df['std_auc'].round(3)\n",
    "results_df"
   ]
  },
  {
   "cell_type": "code",
   "execution_count": 26,
   "id": "3b22649d",
   "metadata": {},
   "outputs": [
    {
     "data": {
      "text/plain": [
       "(0.001, 0.8668780317675395, 0.028746230508215103)"
      ]
     },
     "execution_count": 26,
     "metadata": {},
     "output_type": "execute_result"
    }
   ],
   "source": [
    "best_row = results_df.sort_values(['mean_auc', 'std_auc', 'C'], ascending=[False, True, True]).iloc[0]\n",
    "best_row['C'], best_row['mean_auc'], best_row['std_auc']"
   ]
  }
 ],
 "metadata": {
  "kernelspec": {
   "display_name": "base",
   "language": "python",
   "name": "python3"
  },
  "language_info": {
   "codemirror_mode": {
    "name": "ipython",
    "version": 3
   },
   "file_extension": ".py",
   "mimetype": "text/x-python",
   "name": "python",
   "nbconvert_exporter": "python",
   "pygments_lexer": "ipython3",
   "version": "3.11.5"
  }
 },
 "nbformat": 4,
 "nbformat_minor": 5
}
