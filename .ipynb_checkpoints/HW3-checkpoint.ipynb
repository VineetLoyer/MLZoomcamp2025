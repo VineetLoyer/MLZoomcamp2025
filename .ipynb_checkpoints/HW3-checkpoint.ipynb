{
 "cells": [
  {
   "cell_type": "markdown",
   "id": "df64264b-b1c4-4834-8962-d7ea07c2b2bd",
   "metadata": {},
   "source": [
    "## ML Zoomcamp 2025  - HW 3"
   ]
  },
  {
   "cell_type": "code",
   "execution_count": null,
   "id": "298ff4e3-76e8-416e-875d-a6035e1e56ea",
   "metadata": {},
   "outputs": [],
   "source": []
  }
 ],
 "metadata": {
  "kernelspec": {
   "display_name": "Python 3 (ipykernel)",
   "language": "python",
   "name": "python3"
  },
  "language_info": {
   "codemirror_mode": {
    "name": "ipython",
    "version": 3
   },
   "file_extension": ".py",
   "mimetype": "text/x-python",
   "name": "python",
   "nbconvert_exporter": "python",
   "pygments_lexer": "ipython3",
   "version": "3.11.5"
  }
 },
 "nbformat": 4,
 "nbformat_minor": 5
}
